{
 "cells": [
  {
   "cell_type": "markdown",
   "metadata": {},
   "source": [
    "# Analysing my Netflix data"
   ]
  },
  {
   "cell_type": "markdown",
   "metadata": {},
   "source": [
    "## 1. Load Viewing activity associated with my Netflix account\n",
    "-  Import ViewingActivity.csv as a pandas dataframe\n",
    "-  Filter data associated with my profile 'Priyanka'\n",
    "#### Result: my_netflix_raw"
   ]
  },
  {
   "cell_type": "code",
   "execution_count": null,
   "metadata": {},
   "outputs": [],
   "source": [
    "import pandas as pd\n",
    "all_netflix = pd.read_csv('f:\\\\Python_projects\\\\netflix_data\\\\source_data\\\\ViewingActivity.csv')\n",
    "#Only take rows corresponding to my profile\n",
    "my_netflix_raw = all_netflix[all_netflix['Profile Name']=='Priyanka']\n",
    "#remove dataframew with all data\n",
    "%reset_selective -f all_netflix"
   ]
  },
  {
   "cell_type": "markdown",
   "metadata": {},
   "source": [
    "## 2. Cleaning data\n",
    "#### Result: my_netflix\n"
   ]
  },
  {
   "cell_type": "markdown",
   "metadata": {},
   "source": [
    "### 2.1 Initial clean\n",
    "-  Remove supplemental video types + remove column\n",
    "-  Only keep viewing activity from India and UK + simplify to IN or GB\n",
    "-  Only keep Start Time, Duration, Title and Country columns\n",
    "-  Convert duration to hours + remove old Duration column\n",
    "-  Removing rows containing NA values\n",
    "-  Remove variables not needed further\n",
    "#### Reult: my_netflix_clean"
   ]
  },
  {
   "cell_type": "code",
   "execution_count": null,
   "metadata": {},
   "outputs": [],
   "source": [
    "#Remove other supplemental video types\n",
    "my_netflix_video = my_netflix_raw[my_netflix_raw['Supplemental Video Type'].isna()]\n",
    "my_netflix_video = my_netflix_video.drop(labels='Supplemental Video Type', axis=1)\n",
    "\n",
    "#Remove data not from India and UK\n",
    "my_netflix_video = my_netflix_video[(my_netflix_video['Country'] == 'IN (India)') | (my_netflix_video['Country'] == 'GB (United Kingdom)')]\n",
    "my_netflix_video['Country'] = my_netflix_video['Country'].str[:2]\n",
    "\n",
    "#Only select columns I need\n",
    "my_netflix_clean = my_netflix_video[['Start Time', 'Duration', 'Title', 'Country']].copy()\n",
    "\n",
    "#Define function to convert duration to hours\n",
    "def duration_to_hr (dur_string):\n",
    "    s = dur_string.split(':')\n",
    "    hr = int(s[0])\n",
    "    mn = int(s[1])\n",
    "    sc = int(s[2])\n",
    "    tot = round((hr + mn/60 + sc/3600),2)\n",
    "    return tot\n",
    "\n",
    "#Apply function to Duration column\n",
    "my_netflix_clean['duration'] = my_netflix_clean['Duration'].apply(duration_to_hr)\n",
    "#Remove old Duration column\n",
    "my_netflix_clean= my_netflix_clean.drop('Duration', axis=1)\n",
    "\n",
    "#Remove rows with NA values\n",
    "my_netflix_clean = my_netflix_clean.dropna()\n",
    "\n",
    "#Remove non-required variables and functions\n",
    "%reset_selective -f my_netflix_video\n",
    "%reset_selective -f duration_to_hr\n",
    "\n",
    "my_netflix_clean.head(2)"
   ]
  },
  {
   "cell_type": "markdown",
   "metadata": {},
   "source": [
    "### 2.2 TV Shows and Movies categorization\n",
    "-  Define functions to categorize TV show or movie\n",
    "-  Define function to extract TV show name\n",
    "-  New column to categorize TV shows and Movies\n",
    "-  New column with movie titles + TV show names\n",
    "-  Remove old Title column\n",
    "#### Basis: \n",
    "-  TV show titles appear to contain two semicolons (;) to indicate show: season: episode\n",
    "-  Movie titles appear to contain up to one semicolon\n",
    "#### Result: my_netflix"
   ]
  },
  {
   "cell_type": "code",
   "execution_count": null,
   "metadata": {},
   "outputs": [],
   "source": [
    "#Creaate a copy dataframe to work with\n",
    "my_netflix = my_netflix_clean.copy()\n",
    "\n",
    "#Define function to classify as movie or TV show\n",
    "def tv_or_movie(name):\n",
    "    #Function to check for prescence of two semi colons (;)    \n",
    "    if name.count(':')>=2:\n",
    "        result = 'tv show'\n",
    "    else:\n",
    "        result = 'movie'\n",
    "    return result\n",
    "\n",
    "#Function to get show name\n",
    "def get_show_name(name):\n",
    "    #check if TV show\n",
    "    if tv_or_movie(name) == 'tv show':\n",
    "        result = name.split(':',1)[0].strip()\n",
    "        return result\n",
    "    else:\n",
    "        result = name\n",
    "    return result\n",
    "\n",
    "#Use functions to create new columns\n",
    "##Column to categorize as TV show or movie\n",
    "my_netflix['category'] = my_netflix['Title'].apply(tv_or_movie)\n",
    "\n",
    "##Column to save TV show and movies name\n",
    "my_netflix['name'] = my_netflix['Title'].apply(get_show_name)\n",
    "\n",
    "#Remove Title column\n",
    "my_netflix = my_netflix.drop(labels= 'Title', axis=1)\n",
    "\n",
    "#Remove non-required functions\n",
    "%reset_selective -f tv_or_movie\n",
    "%reset_selective -f get_show_name\n"
   ]
  },
  {
   "cell_type": "markdown",
   "metadata": {},
   "source": [
    "## 3. Data Visualization"
   ]
  },
  {
   "cell_type": "code",
   "execution_count": null,
   "metadata": {},
   "outputs": [],
   "source": [
    "import plotly.express as px"
   ]
  },
  {
   "cell_type": "markdown",
   "metadata": {},
   "source": [
    "### 3.1 Bar graph showing most watched TV Shows and Movies\n",
    "#### Define a function that: \n",
    "-  Gets dataframe of just the TV shows or movies\n",
    "-  Group by show name and + sort in descending order of total watch duration\n",
    "-  Plots a bar graph"
   ]
  },
  {
   "cell_type": "code",
   "execution_count": null,
   "metadata": {},
   "outputs": [],
   "source": [
    "def top_n(my_df, col, type, n):\n",
    "    #from dataframe my_df, get top n most watched names for 'type' in column 'col'. 'type' is 'movie' or 'tv show'\n",
    "    \n",
    "    #Get dataframe of just type\n",
    "    my_type = my_df[my_df[col]==type]\n",
    "    \n",
    "    #Group shows by movie name, sort in descending order and convert to dataframe\n",
    "    my_type = my_type.groupby('name').sum().sort_values(by='duration', ascending= False).reset_index()\n",
    "    \n",
    "    #Keep only relevant columns\n",
    "    my_type = my_type[['name', 'duration']]\n",
    "    \n",
    "    #Get a dataframe of just the first n most watched shows\n",
    "    top_n_type = my_type.iloc[0:n,].sort_values(by='duration', ascending=True)\n",
    "    #somehow, round has to be applied again\n",
    "    top_n_type ['duration']= round(top_n_type['duration'],2)\n",
    "    \n",
    "    fig_type = px.bar(top_n_type,  x ='duration', y= 'name' ,\n",
    "                        title= 'My top '+str(n)+' '+ type.capitalize()+'s',\n",
    "                        color = 'duration' , color_continuous_scale=['red','black'], text='duration')\n",
    "    #Axis titles\n",
    "    fig_type.update_layout(xaxis_title=\"No. of hours watched\", yaxis_title=type.capitalize()+'s')\n",
    "    #Remove colorbar\n",
    "    fig_type.update_coloraxes(showscale=False)\n",
    "    # Set the height of the figure to scale\n",
    "    if n>=10: fig_type.update_layout(height=40*n)       \n",
    "    \n",
    "    \n",
    "    fig_type.show()"
   ]
  },
  {
   "cell_type": "markdown",
   "metadata": {},
   "source": [
    "#### Top 10 movies"
   ]
  },
  {
   "cell_type": "code",
   "execution_count": null,
   "metadata": {},
   "outputs": [],
   "source": [
    "top_n(my_netflix, col='category', type= 'movie', n=20)"
   ]
  },
  {
   "cell_type": "markdown",
   "metadata": {},
   "source": [
    "#### Top 10 TV shows"
   ]
  },
  {
   "cell_type": "code",
   "execution_count": null,
   "metadata": {},
   "outputs": [],
   "source": [
    "top_n(my_netflix, col='category', type= 'tv show', n=2)"
   ]
  },
  {
   "cell_type": "markdown",
   "metadata": {},
   "source": [
    "#### Top 10 watched in India"
   ]
  },
  {
   "cell_type": "code",
   "execution_count": null,
   "metadata": {},
   "outputs": [],
   "source": [
    "top_n(my_netflix, col='Country', type= 'IN', n=10)"
   ]
  },
  {
   "cell_type": "markdown",
   "metadata": {},
   "source": [
    "#### Top 10 watched in UK"
   ]
  },
  {
   "cell_type": "code",
   "execution_count": null,
   "metadata": {},
   "outputs": [],
   "source": [
    "top_n(my_netflix, col='Country', type= 'GB', n=10)"
   ]
  },
  {
   "cell_type": "markdown",
   "metadata": {},
   "source": [
    "# next step- do bar graph for genre. which  genre have i spend most time watch. with different color for movie or tv"
   ]
  },
  {
   "cell_type": "markdown",
   "metadata": {},
   "source": [
    "# 4. Plot TV shows vs Movies"
   ]
  },
  {
   "cell_type": "code",
   "execution_count": null,
   "metadata": {},
   "outputs": [],
   "source": [
    "my_netflix.head(2)"
   ]
  },
  {
   "cell_type": "code",
   "execution_count": null,
   "metadata": {},
   "outputs": [],
   "source": [
    "fig = px.pie(my_netflix, values= 'duration',names='')"
   ]
  },
  {
   "cell_type": "markdown",
   "metadata": {},
   "source": [
    "# 5. Plot \n",
    "#### Has my viewing pattern changed since I moved to the UK?"
   ]
  }
 ],
 "metadata": {
  "kernelspec": {
   "display_name": "Python 3",
   "language": "python",
   "name": "python3"
  },
  "language_info": {
   "codemirror_mode": {
    "name": "ipython",
    "version": 3
   },
   "file_extension": ".py",
   "mimetype": "text/x-python",
   "name": "python",
   "nbconvert_exporter": "python",
   "pygments_lexer": "ipython3",
   "version": "3.11.5"
  }
 },
 "nbformat": 4,
 "nbformat_minor": 2
}
