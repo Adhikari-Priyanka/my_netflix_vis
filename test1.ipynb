{
 "cells": [
  {
   "cell_type": "markdown",
   "metadata": {},
   "source": [
    "Import Viewing activity associated with my Netflix account as a pandas dataframe"
   ]
  },
  {
   "cell_type": "code",
   "execution_count": 3,
   "metadata": {},
   "outputs": [
    {
     "data": {
      "text/plain": [
       "pandas.core.frame.DataFrame"
      ]
     },
     "execution_count": 3,
     "metadata": {},
     "output_type": "execute_result"
    }
   ],
   "source": [
    "import pandas as pd\n",
    "all_netflix = pd.read_csv('f:\\\\Python_projects\\\\netflix_data\\\\source_data\\\\ViewingActivity.csv')\n",
    "type(all_netflix)"
   ]
  },
  {
   "cell_type": "markdown",
   "metadata": {},
   "source": [
    "Just isolate data associated with my profile."
   ]
  },
  {
   "cell_type": "code",
   "execution_count": 4,
   "metadata": {},
   "outputs": [],
   "source": [
    "my_netflix_raw = all_netflix[all_netflix['Profile Name']=='Priyanka']\n",
    "#set(my_netflix_raw['Attributes'])\n",
    "#my_netflix_raw.iloc[:,0]\n"
   ]
  },
  {
   "cell_type": "markdown",
   "metadata": {},
   "source": [
    "Removing rows or columns we dont need.\n",
    "0 - Profile name - Remove\n",
    "1 - Start Time\n",
    "2 - Duration\n",
    "3 - Attributes\n",
    "4 - Title\n",
    "5 - Supplemental Video Type\n",
    "6 - Device Type\n",
    "7 - Bookmark\n",
    "8 - Latest Bookmark\n",
    "9 - Country\n"
   ]
  },
  {
   "cell_type": "code",
   "execution_count": 8,
   "metadata": {},
   "outputs": [
    {
     "data": {
      "text/html": [
       "<div>\n",
       "<style scoped>\n",
       "    .dataframe tbody tr th:only-of-type {\n",
       "        vertical-align: middle;\n",
       "    }\n",
       "\n",
       "    .dataframe tbody tr th {\n",
       "        vertical-align: top;\n",
       "    }\n",
       "\n",
       "    .dataframe thead th {\n",
       "        text-align: right;\n",
       "    }\n",
       "</style>\n",
       "<table border=\"1\" class=\"dataframe\">\n",
       "  <thead>\n",
       "    <tr style=\"text-align: right;\">\n",
       "      <th></th>\n",
       "      <th>Profile Name</th>\n",
       "      <th>Start Time</th>\n",
       "      <th>Duration</th>\n",
       "      <th>Title</th>\n",
       "    </tr>\n",
       "  </thead>\n",
       "  <tbody>\n",
       "    <tr>\n",
       "      <th>16696</th>\n",
       "      <td>Priyanka</td>\n",
       "      <td>2023-10-30 17:59:30</td>\n",
       "      <td>00:22:26</td>\n",
       "      <td>The Disastrous Life of Saiki K.: Season 1: Epi...</td>\n",
       "    </tr>\n",
       "    <tr>\n",
       "      <th>16697</th>\n",
       "      <td>Priyanka</td>\n",
       "      <td>2023-10-27 10:42:07</td>\n",
       "      <td>00:21:12</td>\n",
       "      <td>The Disastrous Life of Saiki K.: Season 1: Epi...</td>\n",
       "    </tr>\n",
       "    <tr>\n",
       "      <th>16698</th>\n",
       "      <td>Priyanka</td>\n",
       "      <td>2023-10-18 19:43:35</td>\n",
       "      <td>00:07:04</td>\n",
       "      <td>Black Mirror: Season 6: Beyond the Sea (Episod...</td>\n",
       "    </tr>\n",
       "    <tr>\n",
       "      <th>16699</th>\n",
       "      <td>Priyanka</td>\n",
       "      <td>2023-10-18 19:21:22</td>\n",
       "      <td>00:19:33</td>\n",
       "      <td>Black Mirror: Season 6: Beyond the Sea (Episod...</td>\n",
       "    </tr>\n",
       "    <tr>\n",
       "      <th>16700</th>\n",
       "      <td>Priyanka</td>\n",
       "      <td>2023-10-09 18:44:38</td>\n",
       "      <td>00:05:11</td>\n",
       "      <td>Derry Girls: Season 2: Episode 3</td>\n",
       "    </tr>\n",
       "  </tbody>\n",
       "</table>\n",
       "</div>"
      ],
      "text/plain": [
       "      Profile Name           Start Time  Duration  \\\n",
       "16696     Priyanka  2023-10-30 17:59:30  00:22:26   \n",
       "16697     Priyanka  2023-10-27 10:42:07  00:21:12   \n",
       "16698     Priyanka  2023-10-18 19:43:35  00:07:04   \n",
       "16699     Priyanka  2023-10-18 19:21:22  00:19:33   \n",
       "16700     Priyanka  2023-10-09 18:44:38  00:05:11   \n",
       "\n",
       "                                                   Title  \n",
       "16696  The Disastrous Life of Saiki K.: Season 1: Epi...  \n",
       "16697  The Disastrous Life of Saiki K.: Season 1: Epi...  \n",
       "16698  Black Mirror: Season 6: Beyond the Sea (Episod...  \n",
       "16699  Black Mirror: Season 6: Beyond the Sea (Episod...  \n",
       "16700                   Derry Girls: Season 2: Episode 3  "
      ]
     },
     "execution_count": 8,
     "metadata": {},
     "output_type": "execute_result"
    }
   ],
   "source": [
    "my_netflix = my_netflix_raw[my_netflix_raw['Supplemental Video Type'].isna()]\n",
    "#remove columns 5 to 9\n",
    "my_netflix = my_netflix.drop(my_netflix.columns[5:10], axis =1)\n",
    "my_netflix = my_netflix.drop('Attributes', axis=1)\n",
    "my_netflix.to_csv('my_netflix.csv')\n",
    "my_netflix.head()"
   ]
  },
  {
   "cell_type": "markdown",
   "metadata": {},
   "source": [
    "I want a new column with just title of the show or movie\n",
    "movies dont have a : separating them. "
   ]
  },
  {
   "cell_type": "code",
   "execution_count": 6,
   "metadata": {},
   "outputs": [
    {
     "data": {
      "text/plain": [
       "16712                   Sex Education: Season 4: Episode 2\n",
       "16713                   Sex Education: Season 4: Episode 1\n",
       "16716    The Ingenuity of the Househusband: Season 1: E...\n",
       "16717    The Ingenuity of the Househusband: Season 1: E...\n",
       "16718    The Ingenuity of the Househusband: Season 1: E...\n",
       "16719    The Ingenuity of the Househusband: Season 1: E...\n",
       "16720    The Ingenuity of the Househusband: Season 1: E...\n",
       "16721    The Ingenuity of the Househusband: Season 1: E...\n",
       "16722    The Ingenuity of the Househusband: Season 1: E...\n",
       "16724        Dogs Behaving Very Badly: Season 3: Episode 1\n",
       "Name: Title, dtype: object"
      ]
     },
     "execution_count": 6,
     "metadata": {},
     "output_type": "execute_result"
    }
   ],
   "source": [
    "my_netflix.iloc[16:26, 3]"
   ]
  },
  {
   "cell_type": "code",
   "execution_count": null,
   "metadata": {},
   "outputs": [],
   "source": [
    "##For movies\n",
    "p1 = r'^[^:]*$'\n",
    "# Extract rows where 'Title' column does not contain ':'\n",
    "my_movies = my_netflix[my_netflix['Title'].str.contains(p1, na=False)]\n",
    "\n",
    "# Display the result\n",
    "print('movies' , my_movies.groupby('Title').size())\n",
    "#Display number\n",
    "print('number of movies = ' , len(my_movies.groupby('Title').size()))\n",
    "#save to csv\n",
    "my_movies.groupby('Title').size().to_csv('my_movies.csv')\n"
   ]
  },
  {
   "cell_type": "code",
   "execution_count": 48,
   "metadata": {},
   "outputs": [
    {
     "name": "stdout",
     "output_type": "stream",
     "text": [
      "Show name\n",
      "1000 Ways to Die                   2\n",
      "A Series of Unfortunate Events    70\n",
      "Afflicted                          3\n",
      "Aggretsuko                        86\n",
      "Ali Wong                          20\n",
      "dtype: int64\n"
     ]
    }
   ],
   "source": [
    "\n",
    "##For shows\n",
    "p2 = r'.*?:.*'\n",
    "# Extract rows where 'Title' column does contain ':'\n",
    "my_shows = my_netflix[my_netflix['Title'].str.contains(p2, na=False)]\n",
    "\n",
    "#remove the semi col after show name\n",
    "my_shows_name = pd.DataFrame()\n",
    "my_shows_name['Show name'] = my_shows['Title'].str.split(':').str[0].str.strip()\n",
    "\n",
    "print(my_shows_name.groupby('Show name').size().head())\n",
    "\n",
    "\n",
    "my_shows_name.groupby('Show name').size().to_csv('my_shows.csv')"
   ]
  }
 ],
 "metadata": {
  "kernelspec": {
   "display_name": "Python 3",
   "language": "python",
   "name": "python3"
  },
  "language_info": {
   "codemirror_mode": {
    "name": "ipython",
    "version": 3
   },
   "file_extension": ".py",
   "mimetype": "text/x-python",
   "name": "python",
   "nbconvert_exporter": "python",
   "pygments_lexer": "ipython3",
   "version": "3.11.5"
  }
 },
 "nbformat": 4,
 "nbformat_minor": 2
}
