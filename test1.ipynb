{
 "cells": [
  {
   "cell_type": "markdown",
   "metadata": {},
   "source": [
    "Import Viewing activity associated with my Netflix account as a pandas dataframe"
   ]
  },
  {
   "cell_type": "code",
   "execution_count": 1,
   "metadata": {},
   "outputs": [],
   "source": [
    "import pandas as pd\n",
    "all_netflix = pd.read_csv('f:\\\\Python_projects\\\\netflix_data\\\\source_data\\\\ViewingActivity.csv')"
   ]
  },
  {
   "cell_type": "markdown",
   "metadata": {},
   "source": [
    "Just isolate data associated with my profile."
   ]
  },
  {
   "cell_type": "code",
   "execution_count": 2,
   "metadata": {},
   "outputs": [],
   "source": [
    "my_netflix_raw = all_netflix[all_netflix['Profile Name']=='Priyanka']\n",
    "#set(my_netflix_raw['Attributes'])\n",
    "#my_netflix_raw.iloc[:,0]\n"
   ]
  },
  {
   "cell_type": "markdown",
   "metadata": {},
   "source": [
    "Removing rows or columns we dont need.\n",
    "0 - Profile name - Remove\n",
    "1 - Start Time\n",
    "2 - Duration\n",
    "3 - Attributes\n",
    "4 - Title\n",
    "5 - Supplemental Video Type\n",
    "6 - Device Type\n",
    "7 - Bookmark\n",
    "8 - Latest Bookmark\n",
    "9 - Country\n"
   ]
  },
  {
   "cell_type": "code",
   "execution_count": 3,
   "metadata": {},
   "outputs": [],
   "source": [
    "my_netflix = my_netflix_raw[my_netflix_raw['Supplemental Video Type'].isna()]\n",
    "#remove columns 5 to 9\n",
    "my_netflix = my_netflix.drop(my_netflix.columns[5:10], axis =1)\n",
    "my_netflix = my_netflix.drop('Attributes', axis=1)\n",
    "my_netflix.to_csv('my_netflix.csv')\n",
    "\n",
    "#Remove viewing activity of very small duration (< 10 min)\n",
    "my_netflix = my_netflix[~(my_netflix['Duration'] < '00:10:00')]\n",
    "\n",
    "#print(my_netflix.head())\n",
    "#print(my_netflix.sort_values(by='Duration', ascending=True).tail())"
   ]
  },
  {
   "cell_type": "markdown",
   "metadata": {},
   "source": [
    "Created new dataframes for movies and TV shows"
   ]
  },
  {
   "cell_type": "code",
   "execution_count": 4,
   "metadata": {},
   "outputs": [
    {
     "name": "stdout",
     "output_type": "stream",
     "text": [
      "movies Title\n",
      "101 Dalmatians          2\n",
      "13 Going on 30          1\n",
      "3 Idiots                1\n",
      "Ali Wong: Baby Cobra    6\n",
      "Ali Wong: Don Wong      4\n",
      "dtype: int64\n",
      "no of movies =  130\n"
     ]
    }
   ],
   "source": [
    "# Define a regular expression pattern to match strings with two ':'\n",
    "pattern = r'.*?:.*?:.*'\n",
    "\n",
    "# Extract rows where 'Title' column does not contain two ':' = movies\n",
    "my_movies=pd.DataFrame()\n",
    "my_movies = my_netflix[~my_netflix['Title'].str.contains(pattern, na=False)]\n",
    "\n",
    "my_movies_name= pd.DataFrame()\n",
    "my_movies_name = my_movies.groupby('Title').size()\n",
    "\n",
    "print('movies', my_movies_name.head())\n",
    "print('no of movies = ', len(my_movies_name))\n",
    "my_movies_name.to_csv('my_movies.csv')"
   ]
  },
  {
   "cell_type": "code",
   "execution_count": 13,
   "metadata": {},
   "outputs": [
    {
     "name": "stdout",
     "output_type": "stream",
     "text": [
      "shows Show name\n",
      "1000 Ways to Die                   2\n",
      "A Series of Unfortunate Events    50\n",
      "Afflicted                          3\n",
      "Aggretsuko                        44\n",
      "Alias Grace                        8\n",
      "dtype: int64\n",
      "no of shows =  136\n"
     ]
    },
    {
     "name": "stderr",
     "output_type": "stream",
     "text": [
      "C:\\Users\\aandh\\AppData\\Local\\Temp\\ipykernel_9892\\2913713005.py:6: SettingWithCopyWarning: \n",
      "A value is trying to be set on a copy of a slice from a DataFrame.\n",
      "Try using .loc[row_indexer,col_indexer] = value instead\n",
      "\n",
      "See the caveats in the documentation: https://pandas.pydata.org/pandas-docs/stable/user_guide/indexing.html#returning-a-view-versus-a-copy\n",
      "  my_shows['Show name'] = my_shows['Title'].str.split(':').str[0].str.strip()\n"
     ]
    }
   ],
   "source": [
    "\n",
    "# Extract rows where 'Title column contains two ':' = shows\n",
    "my_shows=pd.DataFrame()\n",
    "my_shows = my_netflix[my_netflix['Title'].str.contains(pattern, na=False)]\n",
    "\n",
    "#remove the semi colon after show name\n",
    "my_shows['Show name'] = my_shows['Title'].str.split(':').str[0].str.strip()\n",
    "\n",
    "my_shows_name = pd.DataFrame()\n",
    "my_shows_name = my_shows.groupby('Show name').size()\n",
    "\n",
    "print('shows' , my_shows_name.head())\n",
    "print('no of shows = ', len(my_shows_name))\n",
    "\n",
    "my_shows_name.to_csv('my_shows.csv')\n"
   ]
  },
  {
   "cell_type": "code",
   "execution_count": 12,
   "metadata": {},
   "outputs": [
    {
     "data": {
      "text/html": [
       "<div>\n",
       "<style scoped>\n",
       "    .dataframe tbody tr th:only-of-type {\n",
       "        vertical-align: middle;\n",
       "    }\n",
       "\n",
       "    .dataframe tbody tr th {\n",
       "        vertical-align: top;\n",
       "    }\n",
       "\n",
       "    .dataframe thead th {\n",
       "        text-align: right;\n",
       "    }\n",
       "</style>\n",
       "<table border=\"1\" class=\"dataframe\">\n",
       "  <thead>\n",
       "    <tr style=\"text-align: right;\">\n",
       "      <th></th>\n",
       "      <th>Profile Name</th>\n",
       "      <th>Start Time</th>\n",
       "      <th>Duration</th>\n",
       "      <th>Title</th>\n",
       "    </tr>\n",
       "  </thead>\n",
       "  <tbody>\n",
       "    <tr>\n",
       "      <th>16727</th>\n",
       "      <td>Priyanka</td>\n",
       "      <td>2023-09-01 11:10:01</td>\n",
       "      <td>00:18:42</td>\n",
       "      <td>Flavors of Youth: International Version</td>\n",
       "    </tr>\n",
       "    <tr>\n",
       "      <th>16728</th>\n",
       "      <td>Priyanka</td>\n",
       "      <td>2023-08-31 17:52:10</td>\n",
       "      <td>00:27:39</td>\n",
       "      <td>Flavors of Youth: International Version</td>\n",
       "    </tr>\n",
       "    <tr>\n",
       "      <th>16729</th>\n",
       "      <td>Priyanka</td>\n",
       "      <td>2023-08-31 13:10:41</td>\n",
       "      <td>00:16:39</td>\n",
       "      <td>Flavors of Youth: International Version</td>\n",
       "    </tr>\n",
       "    <tr>\n",
       "      <th>16739</th>\n",
       "      <td>Priyanka</td>\n",
       "      <td>2023-08-29 12:25:40</td>\n",
       "      <td>00:31:47</td>\n",
       "      <td>Easy A</td>\n",
       "    </tr>\n",
       "    <tr>\n",
       "      <th>16743</th>\n",
       "      <td>Priyanka</td>\n",
       "      <td>2023-08-28 12:46:26</td>\n",
       "      <td>00:16:05</td>\n",
       "      <td>The Great Hack</td>\n",
       "    </tr>\n",
       "  </tbody>\n",
       "</table>\n",
       "</div>"
      ],
      "text/plain": [
       "      Profile Name           Start Time  Duration  \\\n",
       "16727     Priyanka  2023-09-01 11:10:01  00:18:42   \n",
       "16728     Priyanka  2023-08-31 17:52:10  00:27:39   \n",
       "16729     Priyanka  2023-08-31 13:10:41  00:16:39   \n",
       "16739     Priyanka  2023-08-29 12:25:40  00:31:47   \n",
       "16743     Priyanka  2023-08-28 12:46:26  00:16:05   \n",
       "\n",
       "                                         Title  \n",
       "16727  Flavors of Youth: International Version  \n",
       "16728  Flavors of Youth: International Version  \n",
       "16729  Flavors of Youth: International Version  \n",
       "16739                                   Easy A  \n",
       "16743                           The Great Hack  "
      ]
     },
     "execution_count": 12,
     "metadata": {},
     "output_type": "execute_result"
    }
   ],
   "source": [
    "my_movies.head()"
   ]
  },
  {
   "cell_type": "code",
   "execution_count": 14,
   "metadata": {},
   "outputs": [
    {
     "data": {
      "text/html": [
       "<div>\n",
       "<style scoped>\n",
       "    .dataframe tbody tr th:only-of-type {\n",
       "        vertical-align: middle;\n",
       "    }\n",
       "\n",
       "    .dataframe tbody tr th {\n",
       "        vertical-align: top;\n",
       "    }\n",
       "\n",
       "    .dataframe thead th {\n",
       "        text-align: right;\n",
       "    }\n",
       "</style>\n",
       "<table border=\"1\" class=\"dataframe\">\n",
       "  <thead>\n",
       "    <tr style=\"text-align: right;\">\n",
       "      <th></th>\n",
       "      <th>Profile Name</th>\n",
       "      <th>Start Time</th>\n",
       "      <th>Duration</th>\n",
       "      <th>Title</th>\n",
       "      <th>Show name</th>\n",
       "    </tr>\n",
       "  </thead>\n",
       "  <tbody>\n",
       "    <tr>\n",
       "      <th>16696</th>\n",
       "      <td>Priyanka</td>\n",
       "      <td>2023-10-30 17:59:30</td>\n",
       "      <td>00:22:26</td>\n",
       "      <td>The Disastrous Life of Saiki K.: Season 1: Epi...</td>\n",
       "      <td>The Disastrous Life of Saiki K.</td>\n",
       "    </tr>\n",
       "    <tr>\n",
       "      <th>16697</th>\n",
       "      <td>Priyanka</td>\n",
       "      <td>2023-10-27 10:42:07</td>\n",
       "      <td>00:21:12</td>\n",
       "      <td>The Disastrous Life of Saiki K.: Season 1: Epi...</td>\n",
       "      <td>The Disastrous Life of Saiki K.</td>\n",
       "    </tr>\n",
       "    <tr>\n",
       "      <th>16699</th>\n",
       "      <td>Priyanka</td>\n",
       "      <td>2023-10-18 19:21:22</td>\n",
       "      <td>00:19:33</td>\n",
       "      <td>Black Mirror: Season 6: Beyond the Sea (Episod...</td>\n",
       "      <td>Black Mirror</td>\n",
       "    </tr>\n",
       "    <tr>\n",
       "      <th>16705</th>\n",
       "      <td>Priyanka</td>\n",
       "      <td>2023-10-05 09:29:20</td>\n",
       "      <td>00:14:03</td>\n",
       "      <td>Derry Girls: Season 3: Episode 2</td>\n",
       "      <td>Derry Girls</td>\n",
       "    </tr>\n",
       "    <tr>\n",
       "      <th>16706</th>\n",
       "      <td>Priyanka</td>\n",
       "      <td>2023-10-03 19:10:41</td>\n",
       "      <td>00:25:53</td>\n",
       "      <td>Sex Education: Season 4: Episode 8</td>\n",
       "      <td>Sex Education</td>\n",
       "    </tr>\n",
       "  </tbody>\n",
       "</table>\n",
       "</div>"
      ],
      "text/plain": [
       "      Profile Name           Start Time  Duration  \\\n",
       "16696     Priyanka  2023-10-30 17:59:30  00:22:26   \n",
       "16697     Priyanka  2023-10-27 10:42:07  00:21:12   \n",
       "16699     Priyanka  2023-10-18 19:21:22  00:19:33   \n",
       "16705     Priyanka  2023-10-05 09:29:20  00:14:03   \n",
       "16706     Priyanka  2023-10-03 19:10:41  00:25:53   \n",
       "\n",
       "                                                   Title  \\\n",
       "16696  The Disastrous Life of Saiki K.: Season 1: Epi...   \n",
       "16697  The Disastrous Life of Saiki K.: Season 1: Epi...   \n",
       "16699  Black Mirror: Season 6: Beyond the Sea (Episod...   \n",
       "16705                   Derry Girls: Season 3: Episode 2   \n",
       "16706                 Sex Education: Season 4: Episode 8   \n",
       "\n",
       "                             Show name  \n",
       "16696  The Disastrous Life of Saiki K.  \n",
       "16697  The Disastrous Life of Saiki K.  \n",
       "16699                     Black Mirror  \n",
       "16705                      Derry Girls  \n",
       "16706                    Sex Education  "
      ]
     },
     "execution_count": 14,
     "metadata": {},
     "output_type": "execute_result"
    }
   ],
   "source": [
    "my_shows.head()"
   ]
  }
 ],
 "metadata": {
  "kernelspec": {
   "display_name": "Python 3",
   "language": "python",
   "name": "python3"
  },
  "language_info": {
   "codemirror_mode": {
    "name": "ipython",
    "version": 3
   },
   "file_extension": ".py",
   "mimetype": "text/x-python",
   "name": "python",
   "nbconvert_exporter": "python",
   "pygments_lexer": "ipython3",
   "version": "3.11.5"
  }
 },
 "nbformat": 4,
 "nbformat_minor": 2
}
